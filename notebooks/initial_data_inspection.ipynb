{
 "cells": [
  {
   "cell_type": "code",
   "execution_count": 1,
   "id": "0cd7bdbe",
   "metadata": {},
   "outputs": [],
   "source": [
    "import rdkit\n",
    "from rdkit import Chem\n",
    "from rdkit.Chem import Draw\n",
    "from rdkit.Chem import PandasTools\n",
    "from rdkit.Chem import AllChem\n",
    "from rdkit.Chem import Lipinski\n",
    "from rdkit.Geometry import Point3D\n",
    "\n",
    "\n",
    "import pandas as pd\n",
    "\n",
    "from matplotlib import pyplot as plt\n",
    "from IPython.display import HTML\n",
    "\n",
    "import numpy as np\n",
    "\n",
    "import mordred\n",
    "from mordred import Calculator, descriptors\n",
    "\n",
    "\n",
    "import xgboost\n",
    "from sklearn.neural_network import MLPRegressor\n",
    "from sklearn.neighbors import KNeighborsRegressor\n",
    "from sklearn.ensemble import RandomForestRegressor\n",
    "from sklearn.svm import SVR\n",
    "from sklearn.preprocessing import StandardScaler\n",
    "\n",
    "\n",
    "\n",
    "from sklearn.model_selection import train_test_split"
   ]
  },
  {
   "cell_type": "code",
   "execution_count": 2,
   "id": "bea2697e",
   "metadata": {},
   "outputs": [],
   "source": [
    "from sklearn.metrics import mean_absolute_error as mae\n",
    "from sklearn.metrics import mean_squared_error as mse\n",
    "from sklearn.metrics import r2_score as r2"
   ]
  },
  {
   "cell_type": "code",
   "execution_count": 3,
   "id": "e91ba6bd",
   "metadata": {},
   "outputs": [],
   "source": [
    "#pd.set_option('display.max_rows', 500)"
   ]
  },
  {
   "cell_type": "code",
   "execution_count": 4,
   "id": "cb725605",
   "metadata": {},
   "outputs": [
    {
     "name": "stderr",
     "output_type": "stream",
     "text": [
      "RDKit WARNING: [20:02:22] Warning: molecule is tagged as 3D, but all Z coords are zero\n"
     ]
    }
   ],
   "source": [
    "file = '../data/qspr-dataset-02.sdf'\n",
    "\n",
    "frame = PandasTools.LoadSDF(file,\n",
    "                            smilesName='SMILES',\n",
    "                            molColName='Molecule',\n",
    "                            includeFingerprints=True) \\\n",
    "                            .reset_index() \\\n",
    "                            .set_index(\"ID\") \\\n",
    "                            .drop(columns=[\"index\"])\n",
    "#frame"
   ]
  },
  {
   "cell_type": "code",
   "execution_count": 5,
   "id": "9d11d6f6",
   "metadata": {},
   "outputs": [
    {
     "name": "stderr",
     "output_type": "stream",
     "text": [
      "RDKit WARNING: [20:02:22] Warning: molecule is tagged as 3D, but all Z coords are zero\n"
     ]
    }
   ],
   "source": [
    "suppl = Chem.SDMolSupplier(file)\n",
    "mol_list = []\n",
    "for mol in suppl:\n",
    "    mol_list.append(mol)"
   ]
  },
  {
   "cell_type": "code",
   "execution_count": 6,
   "id": "a8f09887",
   "metadata": {},
   "outputs": [],
   "source": [
    "#img = Draw.MolsToGridImage(mol_list, molsPerRow=4, maxMols=400)\n",
    "#img"
   ]
  },
  {
   "cell_type": "code",
   "execution_count": 7,
   "id": "1bdbd424",
   "metadata": {},
   "outputs": [
    {
     "name": "stdout",
     "output_type": "stream",
     "text": [
      "pLC50       object\n",
      "SMILES      object\n",
      "Molecule    object\n",
      "dtype: object\n"
     ]
    }
   ],
   "source": [
    "print(frame.dtypes)\n",
    "frame = frame.astype({\"pLC50\": float})"
   ]
  },
  {
   "cell_type": "code",
   "execution_count": 8,
   "id": "c537d228",
   "metadata": {},
   "outputs": [
    {
     "data": {
      "text/plain": [
       "(array([-2.,  0.,  2.,  4.,  6.,  8., 10.]),\n",
       " <a list of 7 Text major ticklabel objects>)"
      ]
     },
     "execution_count": 8,
     "metadata": {},
     "output_type": "execute_result"
    },
    {
     "data": {
      "image/png": "[encoded data removed]",
      "text/plain": [
       "<Figure size 432x288 with 1 Axes>"
      ]
     },
     "metadata": {
      "needs_background": "light"
     },
     "output_type": "display_data"
    }
   ],
   "source": [
    "ax = plt.hist(frame[\"pLC50\"].to_list(), bins = 30)\n",
    "plt.xticks(rotation=90)"
   ]
  },
  {
   "cell_type": "code",
   "execution_count": 9,
   "id": "b5a381b3",
   "metadata": {},
   "outputs": [
    {
     "data": {
      "text/html": [
       "<div>\n",
       "<style scoped>\n",
       "    .dataframe tbody tr th:only-of-type {\n",
       "        vertical-align: middle;\n",
       "    }\n",
       "\n",
       "    .dataframe tbody tr th {\n",
       "        vertical-align: top;\n",
       "    }\n",
       "\n",
       "    .dataframe thead th {\n",
       "        text-align: right;\n",
       "    }\n",
       "</style>\n",
       "<table border=\"1\" class=\"dataframe\">\n",
       "  <thead>\n",
       "    <tr style=\"text-align: right;\">\n",
       "      <th></th>\n",
       "      <th>pLC50</th>\n",
       "    </tr>\n",
       "  </thead>\n",
       "  <tbody>\n",
       "    <tr>\n",
       "      <th>count</th>\n",
       "      <td>352.000000</td>\n",
       "    </tr>\n",
       "    <tr>\n",
       "      <th>mean</th>\n",
       "      <td>3.842466</td>\n",
       "    </tr>\n",
       "    <tr>\n",
       "      <th>std</th>\n",
       "      <td>1.289585</td>\n",
       "    </tr>\n",
       "    <tr>\n",
       "      <th>min</th>\n",
       "      <td>0.037000</td>\n",
       "    </tr>\n",
       "    <tr>\n",
       "      <th>25%</th>\n",
       "      <td>3.020750</td>\n",
       "    </tr>\n",
       "    <tr>\n",
       "      <th>50%</th>\n",
       "      <td>3.832500</td>\n",
       "    </tr>\n",
       "    <tr>\n",
       "      <th>75%</th>\n",
       "      <td>4.657750</td>\n",
       "    </tr>\n",
       "    <tr>\n",
       "      <th>max</th>\n",
       "      <td>8.447000</td>\n",
       "    </tr>\n",
       "  </tbody>\n",
       "</table>\n",
       "</div>"
      ],
      "text/plain": [
       "            pLC50\n",
       "count  352.000000\n",
       "mean     3.842466\n",
       "std      1.289585\n",
       "min      0.037000\n",
       "25%      3.020750\n",
       "50%      3.832500\n",
       "75%      4.657750\n",
       "max      8.447000"
      ]
     },
     "execution_count": 9,
     "metadata": {},
     "output_type": "execute_result"
    }
   ],
   "source": [
    "frame.describe()"
   ]
  },
  {
   "cell_type": "markdown",
   "id": "12d52681",
   "metadata": {},
   "source": [
    "# Clean up molecules"
   ]
  },
  {
   "cell_type": "code",
   "execution_count": 10,
   "id": "0f40e7d8",
   "metadata": {},
   "outputs": [],
   "source": [
    "def clean(x):\n",
    "    #clean up molecule\n",
    "    x = Chem.AddHs(x)\n",
    "    AllChem.EmbedMolecule(x, randomSeed=0xf00d)\n",
    "    return x"
   ]
  },
  {
   "cell_type": "code",
   "execution_count": 11,
   "id": "124ae8dd",
   "metadata": {},
   "outputs": [],
   "source": [
    "frame[\"Molecule_processed\"] = frame[\"Molecule\"].apply(lambda x: clean(x))\n"
   ]
  },
  {
   "cell_type": "code",
   "execution_count": 12,
   "id": "4b0a1c78",
   "metadata": {
    "scrolled": false
   },
   "outputs": [],
   "source": [
    "HTML(frame.head().to_html())\n",
    "rdkit.Chem.PandasTools.WriteSDF(frame, out=\"preprocessed_data.sdf\", molColName=\"Molecule_processed\")"
   ]
  },
  {
   "cell_type": "code",
   "execution_count": null,
   "id": "564354d9",
   "metadata": {},
   "outputs": [],
   "source": []
  },
  {
   "cell_type": "code",
   "execution_count": null,
   "id": "4c291c0a",
   "metadata": {},
   "outputs": [],
   "source": []
  },
  {
   "cell_type": "code",
   "execution_count": null,
   "id": "e48b0f52",
   "metadata": {},
   "outputs": [],
   "source": []
  },
  {
   "cell_type": "markdown",
   "id": "b0ed8e0c",
   "metadata": {},
   "source": [
    "# Add Descriptors (Features)"
   ]
  },
  {
   "cell_type": "code",
   "execution_count": 22,
   "id": "ca0af45c",
   "metadata": {},
   "outputs": [
    {
     "name": "stderr",
     "output_type": "stream",
     "text": [
      "  4%|▍         | 15/352 [00:01<00:25, 13.19it/s]"
     ]
    },
    {
     "name": "stdout",
     "output_type": "stream",
     "text": [
      "/home/caro/anaconda3/envs/qspr_comp/lib/python3.8/site-packages/numpy/core/fromnumeric.py:87: RuntimeWarning: overflow encountered in reduce\n",
      "  return ufunc.reduce(obj, axis, dtype, out, **passkwargs)\n"
     ]
    },
    {
     "name": "stderr",
     "output_type": "stream",
     "text": [
      "100%|██████████| 352/352 [00:21<00:00, 16.05it/s]\n"
     ]
    },
    {
     "name": "stdout",
     "output_type": "stream",
     "text": [
      "              ABC      ABCGG  nAcid  nBase    SpAbs_A   SpMax_A  SpDiam_A  \\\n",
      "ID                                                                          \n",
      "Row0     3.535534   3.535534      0      0   6.472136       2.0  3.618034   \n",
      "Row1     7.071068   6.765664      0      0  13.191508  1.931852  3.863703   \n",
      "Row2     2.449490   2.449490      0      0   3.464102  1.732051  3.464102   \n",
      "Row3     9.618017   9.150803      0      0  15.158804  2.337747  4.675495   \n",
      "Row4    12.302055  12.243011      0      0  20.087778  2.521162  5.042325   \n",
      "...           ...        ...    ...    ...        ...       ...       ...   \n",
      "Row347   6.651690   6.355891      0      0   10.79228  2.245827  4.491654   \n",
      "Row348   5.944584   6.068455      0      0   9.191688  2.278414  4.278414   \n",
      "Row349   7.358797   6.989468      0      0  11.908678  2.242838  4.485676   \n",
      "Row350   9.577577   9.256321      0      0  15.169974  2.358294  4.716589   \n",
      "Row351  12.906262  10.794116      0      0  21.764425  2.315808  4.631617   \n",
      "\n",
      "           SpAD_A   SpMAD_A   LogEE_A  ...      SRW10     TSRW10          MW  \\\n",
      "ID                                     ...                                     \n",
      "Row0     6.472136  1.294427  2.525424  ...   7.147559  41.004802   67.042199   \n",
      "Row1    13.191508  1.199228  3.202455  ...   7.601402  37.236738  158.167065   \n",
      "Row2     3.464102  0.866025  2.178059  ...   6.188264  24.179697   60.057515   \n",
      "Row3    15.158804  1.166062  3.457918  ...   9.300821  43.952649  184.012021   \n",
      "Row4    20.087778  1.181634  3.728431  ...  10.018823  50.222249  248.113687   \n",
      "...           ...       ...       ...  ...        ...        ...         ...   \n",
      "Row347   10.79228  1.199142  3.099448  ...   8.806724  37.839725  124.074896   \n",
      "Row348   9.191688  1.148961  2.995422  ...   8.593599  50.007331  111.068414   \n",
      "Row349  11.908678  1.190868  3.197246  ...   8.830689  39.160939  198.963276   \n",
      "Row350  15.169974  1.166921   3.45825  ...   9.362804  44.064730  177.151750   \n",
      "Row351  21.764425   1.28026  3.746706  ...   9.531481  49.331501  265.990135   \n",
      "\n",
      "              AMW WPath WPol  Zagreb1  Zagreb2  mZagreb1  mZagreb2  \n",
      "ID                                                                  \n",
      "Row0     6.704220    15    0     20.0     20.0  1.250000  1.250000  \n",
      "Row1     4.792941   220    8     38.0     36.0  4.250000  3.000000  \n",
      "Row2     5.004793     9    0     12.0      9.0  3.111111  1.000000  \n",
      "Row3    10.824237   240   18     62.0     70.0  6.305556  2.916667  \n",
      "Row4     7.297461   460   33     84.0    103.0  8.618056  4.013889  \n",
      "...           ...   ...  ...      ...      ...       ...       ...  \n",
      "Row347   7.298523    84   10     42.0     46.0  4.083333  2.027778  \n",
      "Row348   6.533436    59    7     38.0     42.0  3.833333  1.777778  \n",
      "Row349  12.435205   117   11     46.0     50.0  4.333333  2.277778  \n",
      "Row350   5.535992   234   19     62.0     71.0  6.305556  2.944444  \n",
      "Row351  10.639605   556   23     84.0     95.0  5.805556  3.861111  \n",
      "\n",
      "[352 rows x 1613 columns]\n"
     ]
    },
    {
     "data": {
      "text/plain": [
       "'calc = mordred.Calculator()\\ncalc.register(mordred.AtomCount.AtomCount(\"HeavyAtom\"))\\ncalc.register(mordred.Aromatic.AromaticAtomsCount)\\ncalc.register(mordred.RotatableBond.RotatableBondsCount)\\ncalc.register(mordred.BondCount.BondCount(\"any\", False))\\ncalc.register(mordred.Aromatic.AromaticBondsCount)\\ncalc.register(mordred.Polarizability.APol)\\ncalc.register(mordred.Polarizability.BPol)\\ncalc.register(mordred.SLogP)\\ncalc.register(mordred.WienerIndex.WienerIndex(True))\\n\\n\\ndescriptors=[]\\nfor desc in calc.descriptors:\\n    descriptors.append(str(desc))\\n    \\nprint(descriptors)\\n\\nframe[\"mordred\"] = frame[\"Molecule\"].apply(lambda x: calc(x))\\nframe[descriptors] = pd.DataFrame(frame.mordred.tolist(), index= frame.index)\\nframe.drop(columns = [\"mordred\"], inplace = True)\\nprint(frame)'"
      ]
     },
     "execution_count": 22,
     "metadata": {},
     "output_type": "execute_result"
    }
   ],
   "source": [
    "#what could influence toxicity?\n",
    "frame[\"heavy_atom_count\"] = frame[\"Molecule\"].apply(lambda x: Lipinski.HeavyAtomCount(x))\n",
    "frame[\"h_acceptors\"] = frame[\"Molecule\"].apply(lambda x: Lipinski.NumHAcceptors(x))\n",
    "frame[\"h_donors\"] = frame[\"Molecule\"].apply(lambda x: Lipinski.NumHDonors(x))\n",
    "frame[\"rotatable_bond_count\"] = frame[\"Molecule\"].apply(lambda x: Lipinski.NumRotatableBonds(x))\n",
    "frame[\"aromatic_ring_count\"] = frame[\"Molecule\"].apply(lambda x: Lipinski.NumAromaticRings(x))\n",
    "\n",
    "\n",
    "calc_2D = Calculator(descriptors, ignore_3D=True)\n",
    "#calc_3D = Calculator(descriptors, ignore_3D=False)\n",
    "mordred_desc_frame = calc_2D.pandas(frame[\"Molecule\"])\n",
    "print(mordred_desc_frame)\n",
    "mordred_desc_frame = mordred_desc_frame.astype('float64')\n",
    "\n",
    "#df\n",
    "\n",
    "\"\"\"calc = mordred.Calculator()\n",
    "calc.register(mordred.AtomCount.AtomCount(\"HeavyAtom\"))\n",
    "calc.register(mordred.Aromatic.AromaticAtomsCount)\n",
    "calc.register(mordred.RotatableBond.RotatableBondsCount)\n",
    "calc.register(mordred.BondCount.BondCount(\"any\", False))\n",
    "calc.register(mordred.Aromatic.AromaticBondsCount)\n",
    "calc.register(mordred.Polarizability.APol)\n",
    "calc.register(mordred.Polarizability.BPol)\n",
    "calc.register(mordred.SLogP)\n",
    "calc.register(mordred.WienerIndex.WienerIndex(True))\n",
    "\n",
    "\n",
    "descriptors=[]\n",
    "for desc in calc.descriptors:\n",
    "    descriptors.append(str(desc))\n",
    "    \n",
    "print(descriptors)\n",
    "\n",
    "frame[\"mordred\"] = frame[\"Molecule\"].apply(lambda x: calc(x))\n",
    "frame[descriptors] = pd.DataFrame(frame.mordred.tolist(), index= frame.index)\n",
    "frame.drop(columns = [\"mordred\"], inplace = True)\n",
    "print(frame)\"\"\""
   ]
  },
  {
   "cell_type": "code",
   "execution_count": 19,
   "id": "eb153189",
   "metadata": {},
   "outputs": [
    {
     "data": {
      "text/html": [
       "<table border=\"1\" class=\"dataframe\">\n",
       "  <thead>\n",
       "    <tr style=\"text-align: right;\">\n",
       "      <th></th>\n",
       "      <th>pLC50</th>\n",
       "      <th>SMILES</th>\n",
       "      <th>Molecule</th>\n",
       "      <th>Molecule_processed</th>\n",
       "      <th>heavy_atom_count</th>\n",
       "      <th>h_acceptors</th>\n",
       "      <th>h_donors</th>\n",
       "      <th>rotatable_bond_count</th>\n",
       "      <th>aromatic_ring_count</th>\n",
       "    </tr>\n",
       "    <tr>\n",
       "      <th>ID</th>\n",
       "      <th></th>\n",
       "      <th></th>\n",
       "      <th></th>\n",
       "      <th></th>\n",
       "      <th></th>\n",
       "      <th></th>\n",
       "      <th></th>\n",
       "      <th></th>\n",
       "      <th></th>\n",
       "    </tr>\n",
       "  </thead>\n",
       "  <tbody>\n",
       "    <tr>\n",
       "      <th>Row0</th>\n",
       "      <td>2.504</td>\n",
       "      <td>c1cc[nH]c1</td>\n",
       "      <td><img data-content=\"rdkit/molecule\" src=\"data:image/png;base64,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\" alt=\"Mol\"/></td>\n",
       "      <td><img data-content=\"rdkit/molecule\" src=\"data:image/png;base64,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\" alt=\"Mol\"/></td>\n",
       "      <td>5</td>\n",
       "      <td>0</td>\n",
       "      <td>1</td>\n",
       "      <td>0</td>\n",
       "      <td>1</td>\n",
       "    </tr>\n",
       "    <tr>\n",
       "      <th>Row1</th>\n",
       "      <td>4.818</td>\n",
       "      <td>CCCCCCCCCCO</td>\n",
       "      <td><img data-content=\"rdkit/molecule\" src=\"data:image/png;base64,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\" alt=\"Mol\"/></td>\n",
       "      <td><img data-content=\"rdkit/molecule\" src=\"data:image/png;base64,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\" alt=\"Mol\"/></td>\n",
       "      <td>11</td>\n",
       "      <td>1</td>\n",
       "      <td>1</td>\n",
       "      <td>8</td>\n",
       "      <td>0</td>\n",
       "    </tr>\n",
       "    <tr>\n",
       "      <th>Row2</th>\n",
       "      <td>0.842</td>\n",
       "      <td>CC(C)O</td>\n",
       "      <td><img data-content=\"rdkit/molecule\" src=\"data:image/png;base64,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\" alt=\"Mol\"/></td>\n",
       "      <td><img data-content=\"rdkit/molecule\" src=\"data:image/png;base64,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\" alt=\"Mol\"/></td>\n",
       "      <td>4</td>\n",
       "      <td>1</td>\n",
       "      <td>1</td>\n",
       "      <td>0</td>\n",
       "      <td>0</td>\n",
       "    </tr>\n",
       "    <tr>\n",
       "      <th>Row3</th>\n",
       "      <td>4.228</td>\n",
       "      <td>O=[N+]([O-])c1ccc(O)c([N+](=O)[O-])c1</td>\n",
       "      <td><img data-content=\"rdkit/molecule\" src=\"data:image/png;base64,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\" alt=\"Mol\"/></td>\n",
       "      <td><img data-content=\"rdkit/molecule\" src=\"data:image/png;base64,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\" alt=\"Mol\"/></td>\n",
       "      <td>13</td>\n",
       "      <td>5</td>\n",
       "      <td>1</td>\n",
       "      <td>2</td>\n",
       "      <td>1</td>\n",
       "    </tr>\n",
       "    <tr>\n",
       "      <th>Row4</th>\n",
       "      <td>3.700</td>\n",
       "      <td>CCCC(C)C1(CC)C(=O)NC(=O)N([Na])C1=O</td>\n",
       "      <td><img data-content=\"rdkit/molecule\" src=\"data:image/png;base64,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\" alt=\"Mol\"/></td>\n",
       "      <td><img data-content=\"rdkit/molecule\" src=\"data:image/png;base64,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\" alt=\"Mol\"/></td>\n",
       "      <td>17</td>\n",
       "      <td>3</td>\n",
       "      <td>1</td>\n",
       "      <td>4</td>\n",
       "      <td>0</td>\n",
       "    </tr>\n",
       "  </tbody>\n",
       "</table>"
      ],
      "text/plain": [
       "<IPython.core.display.HTML object>"
      ]
     },
     "execution_count": 19,
     "metadata": {},
     "output_type": "execute_result"
    }
   ],
   "source": [
    "HTML(frame.head().to_html())\n"
   ]
  },
  {
   "cell_type": "markdown",
   "id": "1a261b24",
   "metadata": {},
   "source": [
    "# Lasso ? Feature selection"
   ]
  },
  {
   "cell_type": "code",
   "execution_count": null,
   "id": "cb4962df",
   "metadata": {},
   "outputs": [],
   "source": []
  },
  {
   "cell_type": "markdown",
   "id": "dd9d2ac6",
   "metadata": {},
   "source": [
    "# Split Train / Test / Validation (CV)"
   ]
  },
  {
   "cell_type": "code",
   "execution_count": 20,
   "id": "ffafaafc",
   "metadata": {},
   "outputs": [
    {
     "name": "stdout",
     "output_type": "stream",
     "text": [
      "(246, 1613)\n",
      "(106, 1613)\n",
      "(246, 1)\n",
      "(106, 1)\n"
     ]
    }
   ],
   "source": [
    "y = frame[[\"pLC50\"]].values\n",
    "X = mordred_desc_frame #frame.drop(columns = [\"pLC50\", \"SMILES\", \"Molecule\", \"Molecule_processed\"])\n",
    "\n",
    "X_train, X_test, y_train, y_test = train_test_split(\n",
    "    X, y, test_size=0.3, random_state=0)\n",
    "\n",
    "print(X_train.shape)\n",
    "print(X_test.shape)\n",
    "print(y_train.shape)\n",
    "print(y_test.shape)"
   ]
  },
  {
   "cell_type": "code",
   "execution_count": 16,
   "id": "27e4cf38",
   "metadata": {},
   "outputs": [
    {
     "ename": "NameError",
     "evalue": "name 'cross_validation' is not defined",
     "output_type": "error",
     "traceback": [
      "\u001b[0;31m---------------------------------------------------------------------------\u001b[0m",
      "\u001b[0;31mNameError\u001b[0m                                 Traceback (most recent call last)",
      "\u001b[0;32m<ipython-input-16-20161c8d117d>\u001b[0m in \u001b[0;36m<module>\u001b[0;34m\u001b[0m\n\u001b[0;32m----> 1\u001b[0;31m \u001b[0mscores\u001b[0m \u001b[0;34m=\u001b[0m \u001b[0mcross_validation\u001b[0m\u001b[0;34m\u001b[0m\u001b[0;34m\u001b[0m\u001b[0m\n\u001b[0m",
      "\u001b[0;31mNameError\u001b[0m: name 'cross_validation' is not defined"
     ]
    }
   ],
   "source": [
    "scores = cross_validation"
   ]
  },
  {
   "cell_type": "markdown",
   "id": "1bda04c1",
   "metadata": {},
   "source": [
    "# Model training"
   ]
  },
  {
   "cell_type": "code",
   "execution_count": 21,
   "id": "27a6e3f6",
   "metadata": {},
   "outputs": [
    {
     "name": "stderr",
     "output_type": "stream",
     "text": [
      "/home/caro/anaconda3/envs/qspr_comp/lib/python3.8/site-packages/sklearn/utils/extmath.py:770: RuntimeWarning: invalid value encountered in true_divide\n",
      "  updated_mean = (last_sum + new_sum) / updated_sample_count\n",
      "/home/caro/anaconda3/envs/qspr_comp/lib/python3.8/site-packages/sklearn/utils/extmath.py:711: RuntimeWarning: Degrees of freedom <= 0 for slice.\n",
      "  result = op(x, *args, **kwargs)\n"
     ]
    },
    {
     "ename": "ValueError",
     "evalue": "Input contains NaN, infinity or a value too large for dtype('float32').",
     "output_type": "error",
     "traceback": [
      "\u001b[0;31m---------------------------------------------------------------------------\u001b[0m",
      "\u001b[0;31mValueError\u001b[0m                                Traceback (most recent call last)",
      "\u001b[0;32m<ipython-input-21-939992ba6668>\u001b[0m in \u001b[0;36m<module>\u001b[0;34m\u001b[0m\n\u001b[1;32m      9\u001b[0m \u001b[0;31m#Random Forest\u001b[0m\u001b[0;34m\u001b[0m\u001b[0;34m\u001b[0m\u001b[0;34m\u001b[0m\u001b[0m\n\u001b[1;32m     10\u001b[0m \u001b[0mrf_model\u001b[0m \u001b[0;34m=\u001b[0m \u001b[0mRandomForestRegressor\u001b[0m\u001b[0;34m(\u001b[0m\u001b[0mrandom_state\u001b[0m\u001b[0;34m=\u001b[0m\u001b[0;36m0\u001b[0m\u001b[0;34m,\u001b[0m \u001b[0mn_estimators\u001b[0m\u001b[0;34m=\u001b[0m\u001b[0;36m100\u001b[0m\u001b[0;34m)\u001b[0m\u001b[0;34m\u001b[0m\u001b[0;34m\u001b[0m\u001b[0m\n\u001b[0;32m---> 11\u001b[0;31m \u001b[0mrf_model\u001b[0m\u001b[0;34m.\u001b[0m\u001b[0mfit\u001b[0m\u001b[0;34m(\u001b[0m\u001b[0mX_train\u001b[0m\u001b[0;34m,\u001b[0m \u001b[0my_train\u001b[0m\u001b[0;34m.\u001b[0m\u001b[0mravel\u001b[0m\u001b[0;34m(\u001b[0m\u001b[0;34m)\u001b[0m\u001b[0;34m)\u001b[0m\u001b[0;34m\u001b[0m\u001b[0;34m\u001b[0m\u001b[0m\n\u001b[0m\u001b[1;32m     12\u001b[0m \u001b[0;34m\u001b[0m\u001b[0m\n\u001b[1;32m     13\u001b[0m \u001b[0;31m#SVM oder so kp bin kein Experte (Caro :) )\u001b[0m\u001b[0;34m\u001b[0m\u001b[0;34m\u001b[0m\u001b[0;34m\u001b[0m\u001b[0m\n",
      "\u001b[0;32m~/anaconda3/envs/qspr_comp/lib/python3.8/site-packages/sklearn/ensemble/_forest.py\u001b[0m in \u001b[0;36mfit\u001b[0;34m(self, X, y, sample_weight)\u001b[0m\n\u001b[1;32m    301\u001b[0m                 \u001b[0;34m\"sparse multilabel-indicator for y is not supported.\"\u001b[0m\u001b[0;34m\u001b[0m\u001b[0;34m\u001b[0m\u001b[0m\n\u001b[1;32m    302\u001b[0m             )\n\u001b[0;32m--> 303\u001b[0;31m         X, y = self._validate_data(X, y, multi_output=True,\n\u001b[0m\u001b[1;32m    304\u001b[0m                                    accept_sparse=\"csc\", dtype=DTYPE)\n\u001b[1;32m    305\u001b[0m         \u001b[0;32mif\u001b[0m \u001b[0msample_weight\u001b[0m \u001b[0;32mis\u001b[0m \u001b[0;32mnot\u001b[0m \u001b[0;32mNone\u001b[0m\u001b[0;34m:\u001b[0m\u001b[0;34m\u001b[0m\u001b[0;34m\u001b[0m\u001b[0m\n",
      "\u001b[0;32m~/anaconda3/envs/qspr_comp/lib/python3.8/site-packages/sklearn/base.py\u001b[0m in \u001b[0;36m_validate_data\u001b[0;34m(self, X, y, reset, validate_separately, **check_params)\u001b[0m\n\u001b[1;32m    430\u001b[0m                 \u001b[0my\u001b[0m \u001b[0;34m=\u001b[0m \u001b[0mcheck_array\u001b[0m\u001b[0;34m(\u001b[0m\u001b[0my\u001b[0m\u001b[0;34m,\u001b[0m \u001b[0;34m**\u001b[0m\u001b[0mcheck_y_params\u001b[0m\u001b[0;34m)\u001b[0m\u001b[0;34m\u001b[0m\u001b[0;34m\u001b[0m\u001b[0m\n\u001b[1;32m    431\u001b[0m             \u001b[0;32melse\u001b[0m\u001b[0;34m:\u001b[0m\u001b[0;34m\u001b[0m\u001b[0;34m\u001b[0m\u001b[0m\n\u001b[0;32m--> 432\u001b[0;31m                 \u001b[0mX\u001b[0m\u001b[0;34m,\u001b[0m \u001b[0my\u001b[0m \u001b[0;34m=\u001b[0m \u001b[0mcheck_X_y\u001b[0m\u001b[0;34m(\u001b[0m\u001b[0mX\u001b[0m\u001b[0;34m,\u001b[0m \u001b[0my\u001b[0m\u001b[0;34m,\u001b[0m \u001b[0;34m**\u001b[0m\u001b[0mcheck_params\u001b[0m\u001b[0;34m)\u001b[0m\u001b[0;34m\u001b[0m\u001b[0;34m\u001b[0m\u001b[0m\n\u001b[0m\u001b[1;32m    433\u001b[0m             \u001b[0mout\u001b[0m \u001b[0;34m=\u001b[0m \u001b[0mX\u001b[0m\u001b[0;34m,\u001b[0m \u001b[0my\u001b[0m\u001b[0;34m\u001b[0m\u001b[0;34m\u001b[0m\u001b[0m\n\u001b[1;32m    434\u001b[0m \u001b[0;34m\u001b[0m\u001b[0m\n",
      "\u001b[0;32m~/anaconda3/envs/qspr_comp/lib/python3.8/site-packages/sklearn/utils/validation.py\u001b[0m in \u001b[0;36minner_f\u001b[0;34m(*args, **kwargs)\u001b[0m\n\u001b[1;32m     70\u001b[0m                           FutureWarning)\n\u001b[1;32m     71\u001b[0m         \u001b[0mkwargs\u001b[0m\u001b[0;34m.\u001b[0m\u001b[0mupdate\u001b[0m\u001b[0;34m(\u001b[0m\u001b[0;34m{\u001b[0m\u001b[0mk\u001b[0m\u001b[0;34m:\u001b[0m \u001b[0marg\u001b[0m \u001b[0;32mfor\u001b[0m \u001b[0mk\u001b[0m\u001b[0;34m,\u001b[0m \u001b[0marg\u001b[0m \u001b[0;32min\u001b[0m \u001b[0mzip\u001b[0m\u001b[0;34m(\u001b[0m\u001b[0msig\u001b[0m\u001b[0;34m.\u001b[0m\u001b[0mparameters\u001b[0m\u001b[0;34m,\u001b[0m \u001b[0margs\u001b[0m\u001b[0;34m)\u001b[0m\u001b[0;34m}\u001b[0m\u001b[0;34m)\u001b[0m\u001b[0;34m\u001b[0m\u001b[0;34m\u001b[0m\u001b[0m\n\u001b[0;32m---> 72\u001b[0;31m         \u001b[0;32mreturn\u001b[0m \u001b[0mf\u001b[0m\u001b[0;34m(\u001b[0m\u001b[0;34m**\u001b[0m\u001b[0mkwargs\u001b[0m\u001b[0;34m)\u001b[0m\u001b[0;34m\u001b[0m\u001b[0;34m\u001b[0m\u001b[0m\n\u001b[0m\u001b[1;32m     73\u001b[0m     \u001b[0;32mreturn\u001b[0m \u001b[0minner_f\u001b[0m\u001b[0;34m\u001b[0m\u001b[0;34m\u001b[0m\u001b[0m\n\u001b[1;32m     74\u001b[0m \u001b[0;34m\u001b[0m\u001b[0m\n",
      "\u001b[0;32m~/anaconda3/envs/qspr_comp/lib/python3.8/site-packages/sklearn/utils/validation.py\u001b[0m in \u001b[0;36mcheck_X_y\u001b[0;34m(X, y, accept_sparse, accept_large_sparse, dtype, order, copy, force_all_finite, ensure_2d, allow_nd, multi_output, ensure_min_samples, ensure_min_features, y_numeric, estimator)\u001b[0m\n\u001b[1;32m    793\u001b[0m         \u001b[0;32mraise\u001b[0m \u001b[0mValueError\u001b[0m\u001b[0;34m(\u001b[0m\u001b[0;34m\"y cannot be None\"\u001b[0m\u001b[0;34m)\u001b[0m\u001b[0;34m\u001b[0m\u001b[0;34m\u001b[0m\u001b[0m\n\u001b[1;32m    794\u001b[0m \u001b[0;34m\u001b[0m\u001b[0m\n\u001b[0;32m--> 795\u001b[0;31m     X = check_array(X, accept_sparse=accept_sparse,\n\u001b[0m\u001b[1;32m    796\u001b[0m                     \u001b[0maccept_large_sparse\u001b[0m\u001b[0;34m=\u001b[0m\u001b[0maccept_large_sparse\u001b[0m\u001b[0;34m,\u001b[0m\u001b[0;34m\u001b[0m\u001b[0;34m\u001b[0m\u001b[0m\n\u001b[1;32m    797\u001b[0m                     \u001b[0mdtype\u001b[0m\u001b[0;34m=\u001b[0m\u001b[0mdtype\u001b[0m\u001b[0;34m,\u001b[0m \u001b[0morder\u001b[0m\u001b[0;34m=\u001b[0m\u001b[0morder\u001b[0m\u001b[0;34m,\u001b[0m \u001b[0mcopy\u001b[0m\u001b[0;34m=\u001b[0m\u001b[0mcopy\u001b[0m\u001b[0;34m,\u001b[0m\u001b[0;34m\u001b[0m\u001b[0;34m\u001b[0m\u001b[0m\n",
      "\u001b[0;32m~/anaconda3/envs/qspr_comp/lib/python3.8/site-packages/sklearn/utils/validation.py\u001b[0m in \u001b[0;36minner_f\u001b[0;34m(*args, **kwargs)\u001b[0m\n\u001b[1;32m     70\u001b[0m                           FutureWarning)\n\u001b[1;32m     71\u001b[0m         \u001b[0mkwargs\u001b[0m\u001b[0;34m.\u001b[0m\u001b[0mupdate\u001b[0m\u001b[0;34m(\u001b[0m\u001b[0;34m{\u001b[0m\u001b[0mk\u001b[0m\u001b[0;34m:\u001b[0m \u001b[0marg\u001b[0m \u001b[0;32mfor\u001b[0m \u001b[0mk\u001b[0m\u001b[0;34m,\u001b[0m \u001b[0marg\u001b[0m \u001b[0;32min\u001b[0m \u001b[0mzip\u001b[0m\u001b[0;34m(\u001b[0m\u001b[0msig\u001b[0m\u001b[0;34m.\u001b[0m\u001b[0mparameters\u001b[0m\u001b[0;34m,\u001b[0m \u001b[0margs\u001b[0m\u001b[0;34m)\u001b[0m\u001b[0;34m}\u001b[0m\u001b[0;34m)\u001b[0m\u001b[0;34m\u001b[0m\u001b[0;34m\u001b[0m\u001b[0m\n\u001b[0;32m---> 72\u001b[0;31m         \u001b[0;32mreturn\u001b[0m \u001b[0mf\u001b[0m\u001b[0;34m(\u001b[0m\u001b[0;34m**\u001b[0m\u001b[0mkwargs\u001b[0m\u001b[0;34m)\u001b[0m\u001b[0;34m\u001b[0m\u001b[0;34m\u001b[0m\u001b[0m\n\u001b[0m\u001b[1;32m     73\u001b[0m     \u001b[0;32mreturn\u001b[0m \u001b[0minner_f\u001b[0m\u001b[0;34m\u001b[0m\u001b[0;34m\u001b[0m\u001b[0m\n\u001b[1;32m     74\u001b[0m \u001b[0;34m\u001b[0m\u001b[0m\n",
      "\u001b[0;32m~/anaconda3/envs/qspr_comp/lib/python3.8/site-packages/sklearn/utils/validation.py\u001b[0m in \u001b[0;36mcheck_array\u001b[0;34m(array, accept_sparse, accept_large_sparse, dtype, order, copy, force_all_finite, ensure_2d, allow_nd, ensure_min_samples, ensure_min_features, estimator)\u001b[0m\n\u001b[1;32m    642\u001b[0m \u001b[0;34m\u001b[0m\u001b[0m\n\u001b[1;32m    643\u001b[0m         \u001b[0;32mif\u001b[0m \u001b[0mforce_all_finite\u001b[0m\u001b[0;34m:\u001b[0m\u001b[0;34m\u001b[0m\u001b[0;34m\u001b[0m\u001b[0m\n\u001b[0;32m--> 644\u001b[0;31m             _assert_all_finite(array,\n\u001b[0m\u001b[1;32m    645\u001b[0m                                allow_nan=force_all_finite == 'allow-nan')\n\u001b[1;32m    646\u001b[0m \u001b[0;34m\u001b[0m\u001b[0m\n",
      "\u001b[0;32m~/anaconda3/envs/qspr_comp/lib/python3.8/site-packages/sklearn/utils/validation.py\u001b[0m in \u001b[0;36m_assert_all_finite\u001b[0;34m(X, allow_nan, msg_dtype)\u001b[0m\n\u001b[1;32m     94\u001b[0m                 not allow_nan and not np.isfinite(X).all()):\n\u001b[1;32m     95\u001b[0m             \u001b[0mtype_err\u001b[0m \u001b[0;34m=\u001b[0m \u001b[0;34m'infinity'\u001b[0m \u001b[0;32mif\u001b[0m \u001b[0mallow_nan\u001b[0m \u001b[0;32melse\u001b[0m \u001b[0;34m'NaN, infinity'\u001b[0m\u001b[0;34m\u001b[0m\u001b[0;34m\u001b[0m\u001b[0m\n\u001b[0;32m---> 96\u001b[0;31m             raise ValueError(\n\u001b[0m\u001b[1;32m     97\u001b[0m                     \u001b[0mmsg_err\u001b[0m\u001b[0;34m.\u001b[0m\u001b[0mformat\u001b[0m\u001b[0;34m\u001b[0m\u001b[0;34m\u001b[0m\u001b[0m\n\u001b[1;32m     98\u001b[0m                     (type_err,\n",
      "\u001b[0;31mValueError\u001b[0m: Input contains NaN, infinity or a value too large for dtype('float32')."
     ]
    }
   ],
   "source": [
    "#scaler\n",
    "stds = StandardScaler()\n",
    "stds.fit(X_train)\n",
    "\n",
    "#XGBoost\n",
    "xgboost_model = xgboost.XGBRegressor(n_estimators=100)\n",
    "xgboost_model.fit(X_train, y_train)\n",
    "\n",
    "#Random Forest\n",
    "rf_model = RandomForestRegressor(random_state=0, n_estimators=100)\n",
    "rf_model.fit(X_train, y_train.ravel())\n",
    "\n",
    "#SVM oder so kp bin kein Experte (Caro :) )\n",
    "svm_model = SVR()\n",
    "svm_model.fit(stds.transform(X_train), y_train.ravel())\n",
    "\n",
    "#KNN\n",
    "knn_model = KNeighborsRegressor()\n",
    "knn_model.fit(stds.transform(X_train), y_train)\n"
   ]
  },
  {
   "cell_type": "code",
   "execution_count": null,
   "id": "a8a02787",
   "metadata": {},
   "outputs": [],
   "source": [
    "pred_xgb_test = xgboost_model.predict(X_test)\n",
    "pred_xgb_train = xgboost_model.predict(X_train)\n",
    "\n",
    "pred_rf_test = rf_model.predict(X_test)\n",
    "pred_rf_train = rf_model.predict(X_train)\n",
    "\n",
    "pred_svm_test = svm_model.predict(stds.transform(X_test))\n",
    "pred_svm_train = svm_model.predict(stds.transform(X_train))\n",
    "\n",
    "pred_knn_test = knn_model.predict(stds.transform(X_test))\n",
    "pred_knn_train = knn_model.predict(stds.transform(X_train))"
   ]
  },
  {
   "cell_type": "code",
   "execution_count": null,
   "id": "a52cb489",
   "metadata": {},
   "outputs": [],
   "source": [
    "def get_errors(y_true,y_pred,model_name=\"Model\"):\n",
    "\n",
    "    err_mae=mae(y_true,y_pred).round(4)\n",
    "    err_rmse=np.sqrt(mse(y_true,y_pred)).round(4)\n",
    "    err_r2=r2(y_true,y_pred).round(4)\n",
    "\n",
    "    print(model_name+\" MAE:\"+str(err_mae)+\" RMSE:\"+str(err_rmse)+\" R2:\"+str(err_r2))\n",
    "    \n",
    "    return err_mae,err_rmse,err_r2"
   ]
  },
  {
   "cell_type": "code",
   "execution_count": null,
   "id": "3dda305e",
   "metadata": {},
   "outputs": [],
   "source": [
    "print(\"\\nperformance on testing set:\")\n",
    "get_errors(y_test, pred_rf_test, \"Random Forest\")\n",
    "get_errors(y_test, pred_xgb_test, \"XGBoost\")\n",
    "get_errors(y_test, pred_svm_test, \"SVM\")\n",
    "get_errors(y_test, pred_knn_test, \"KNN\")\n",
    "\n",
    "print(\"\\nperformance on training set:\")\n",
    "get_errors(y_train, pred_rf_train, \"Random Forest\")\n",
    "get_errors(y_train, pred_xgb_train, \"XGBoost\")\n",
    "get_errors(y_train, pred_svm_train, \"SVM\")\n",
    "get_errors(y_train, pred_knn_train, \"KNN\")\n",
    "\n"
   ]
  },
  {
   "cell_type": "code",
   "execution_count": null,
   "id": "a41506d3",
   "metadata": {},
   "outputs": [],
   "source": []
  },
  {
   "cell_type": "code",
   "execution_count": null,
   "id": "c172e5d0",
   "metadata": {},
   "outputs": [],
   "source": []
  }
 ],
 "metadata": {
  "kernelspec": {
   "display_name": "qspr_comp",
   "language": "python",
   "name": "qspr_comp"
  },
  "language_info": {
   "codemirror_mode": {
    "name": "ipython",
    "version": 3
   },
   "file_extension": ".py",
   "mimetype": "text/x-python",
   "name": "python",
   "nbconvert_exporter": "python",
   "pygments_lexer": "ipython3",
   "version": "3.8.5"
  }
 },
 "nbformat": 4,
 "nbformat_minor": 5
}
